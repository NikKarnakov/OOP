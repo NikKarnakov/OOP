{
 "cells": [
  {
   "attachments": {},
   "cell_type": "markdown",
   "id": "84d809c2",
   "metadata": {},
   "source": [
    "Для начала установим библиотеку transformers. \n",
    "Более подробно про неё - https://huggingface.co/docs/transformers/index.\n",
    "Если говорить кратко, то это библиотека от стартапа Hugging Face для работы с transformer-based моделями. (Для справки, transformer-based модели это такие модели, которые используют механизм внимания для повышения скорости обучения). \n"
   ]
  },
  {
   "cell_type": "code",
   "execution_count": null,
   "id": "d5040034",
   "metadata": {},
   "outputs": [],
   "source": [
    "# pip install transformers"
   ]
  },
  {
   "attachments": {},
   "cell_type": "markdown",
   "id": "8daa7890",
   "metadata": {},
   "source": [
    "Для написания нейронной сети будем работать с русскоязычной моделью ruGPT3 от Сбера.\n",
    "Немного информации про эту модель: (взято отсюда: https://developers.sber.ru/portal/products/rugpt-3?attempt=1)\n",
    "\n",
    "RuGPT-3 умеет писать тексты на русском языке: например, может продолжить за вас историю, написать отзыв о продукте или твит.\n",
    "\n",
    "Нейросеть обучена на русскоязычных текстах разных стилей: на энциклопедиях, социальных сетях, художественной и бизнес-литературе. С помощью такой модели можно выстроить с нуля даже рекомендательную систему."
   ]
  },
  {
   "cell_type": "code",
   "execution_count": 1,
   "id": "cdd85da0",
   "metadata": {},
   "outputs": [],
   "source": [
    "#Импортируем необходимые библлиотеки\n",
    "from transformers import (\n",
    "    GPT2LMHeadModel, # The GPT2 Model transformer with a language modeling head on top (linear layer with weights tied to the input embeddings).\n",
    "    GPT2Tokenizer, # GPT-2 BPE tokenizer, using byte-level Byte-Pair-Encoding.\n",
    "    TextDataset, # Библиотеки, содержащие инструменты для подготовки датасета и даталоудера\n",
    "    DataCollatorForLanguageModeling, \n",
    "    Trainer, # Библиотеки, необходимые для тренировки модели\n",
    "    TrainingArguments\n",
    ")\n",
    "\n",
    "# torch - фреймворк машинного обучения для языка Python с открытым исходным кодом, созданный на базе. \n",
    "# Используется для решения различных задач: компьютерное зрение, обработка естественного языка.\n",
    "import torch\n",
    "\n",
    "\n",
    "DEVICE = torch.device(\"cuda:0\" if torch.cuda.is_available() else 'cpu') # Для выполнения всех вычислительных процессов на\n",
    "# графическом процессоре"
   ]
  },
  {
   "cell_type": "markdown",
   "id": "d6236f2a",
   "metadata": {},
   "source": [
    "Для файнтюнинга скачаем модель поменьше, чтобы она точно поместилась на GPU."
   ]
  },
  {
   "cell_type": "code",
   "execution_count": 2,
   "id": "267cdd2a",
   "metadata": {},
   "outputs": [],
   "source": [
    "# Загрузка, инициализация модели и токенизатора\n",
    "model_name_or_path = \"sberbank-ai/rugpt3small_based_on_gpt2\" # small - модель поменьше\n",
    "tokenizer = GPT2Tokenizer.from_pretrained(model_name_or_path)\n",
    "model = GPT2LMHeadModel.from_pretrained(model_name_or_path).to(DEVICE)"
   ]
  },
  {
   "attachments": {},
   "cell_type": "markdown",
   "id": "f2a20713",
   "metadata": {},
   "source": [
    "Теперь подготовим данные для тренировки. Датасет взят со следующего репозитория: https://github.com/dkagramanyan/astro/blob/main/horoscopes.csv.\n",
    "Сразу оговорим, что датасет - огромный (содержит около 31000 гороскопов, а один гороскоп может содержать до 300 символов). Мы возьмем поменьше, первые 3600 гороскопов. Кроме этого нам надо будет убрать дату из этого датасета, а латинское название знака зодиака заменить на русское, чтобы он получился чистый и готовый к работе с нашей моделью. Воспользуемся обычными средствами Python."
   ]
  },
  {
   "cell_type": "code",
   "execution_count": 3,
   "id": "39c356c0",
   "metadata": {},
   "outputs": [],
   "source": [
    "# Предобработка датасета\n",
    "f = open('horoscopes.txt', 'r', encoding='utf8')  # Открываем оригинальный датасет для чтения и записи\n",
    "g = open('final_horoscopes.txt', 'w', encoding='utf8')  # Создаем файл для записи нашего датасета\n",
    "\n",
    "signs = ['aries,\"', 'gemini,\"', 'taurus,\"', 'cancer,\"', 'leo,\"', 'virgo,\"', 'libra,\"', 'scorpio,\"', 'sagittarius,\"',\n",
    "         'capricorn,\"', 'aquarius,\"', 'pisces,\"']  # То, что нам нужно заменить\n",
    "signs_zamena = ['Овен: ', 'Близнецы: ', 'Телец: ', 'Рак: ', 'Лев: ', 'Дева: ', 'Весы: ', 'Скорпион: ', 'Стрелец: ',\n",
    "                'Козерог: ', 'Водолей: ', 'Рыбы: '] # То, на что мы заменяем\n",
    "\n",
    "lines = f.readlines()  # Считываем все строки из оригинального датасета\n",
    "f.close()  # И сразу не забываем закрыть файл\n",
    "\n",
    "i = 0  # Счетчик для отсчета 3000 гороскопов.\n",
    "\n",
    "# Циклом будет редактировать строки и записывать их в новый файл\n",
    "for line in lines:\n",
    "    s = line.strip()\n",
    "    s = s[11:]  # Удаляем дату\n",
    "    for k in range(12):\n",
    "        if signs[k] in s:\n",
    "            s = s.replace(signs[k], signs_zamena[k])  # Заменяем латинское название знака зодиака на русское\n",
    "    s = s[:len(s) - 1]\n",
    "    s = s + '\\n'\n",
    "    g.write(s)  # Записываем в файл\n",
    "    i += 1\n",
    "    if i == 3600:\n",
    "        break\n",
    "\n",
    "g.close()  # После окончания работы - закрываем файл"
   ]
  },
  {
   "attachments": {},
   "cell_type": "markdown",
   "id": "cac6e686",
   "metadata": {},
   "source": [
    "Теперь подготовим обучающие данные для тренировки. Для этого нам потребуются два прекрасных готовых инструемнта, которые содержаться в библиотеке Transformers, необходимые для подготовки датасета и даталоудера. Для этого нам лишь потребуется один .txt файл с обучающими данными."
   ]
  },
  {
   "attachments": {},
   "cell_type": "markdown",
   "id": "1830a376",
   "metadata": {},
   "source": [
    "Этот блок для проверки работы модели.\n",
    "Я просто взял небольшой кусок датасета и на нем обучил модель, чтобы посмотреть, как это будет работать"
   ]
  },
  {
   "cell_type": "code",
   "execution_count": 22,
   "id": "0c9e5d35",
   "metadata": {},
   "outputs": [],
   "source": [
    "text = \"\"\"Овен: Любые разногласия во мнениях скоро улягутся, а вы продолжайте делать, как делали, но постарайтесь не наступать на ноги слишком многим, иначе ваши сегодняшние действия сыграют против вас в будущем.\n",
    "Близнецы: Первый день нового года прекрасно подходит для начинаний, которые вы постоянно откладывали в прошлом году. Отбросьте все сомнения и действуйте. Упор может быть сделан как на повышение профессиональной квалификации, так и на реформацию личной жизни.\n",
    "Телец: Этот день как нельзя лучше подходит для улучшения состояния здоровья и пополнения физического потенциала. Посетите тренажерный зал, бассейн или начните делать зарядку по утрам.\n",
    "Рак: Первый день нового года, да еще понедельник будет для вас спокойным, днем, когда вы будете сторонним наблюдателем всех событий, происходящих вокруг. Вам не придется лично принимать важные решения.\n",
    "Лев: Львы не сорвутся в начале года с места в карьер, они немного устали. Первый день нового года ничем не примечателен и пройдет достаточно спокойно. Не переедайте и будьте умереннее в употреблении спиртных напитков.\n",
    "Дева: Сегодняшнее расположение звезд может усилить дух соперничества, и вам лучше заняться чем-то более полезным, нежели личными предубеждениями, сплетнями и слухами. Поскольку месяц начался, следует мостить пути для более осмысленных дискуссий.\n",
    "Весы: В этот день вы, судя по всему, будете в более благодушном настроении, чем в последнее время, и не станете придираться к другим. Это особенно кстати, если вы проводите время с любимым человеком. Есть вероятность, что вы будете заняты каким-то совместным проектом, который, скорее всего, принесет вам удовлетворение.\n",
    "Скорпион: Этот день благоприятен для деловых встреч, знакомств, планирования деятельности на целый год. Надейтесь только на себя. Прирожденное чувство уверенности в себе и способность стойко переносить все испытания будут способствовать успеху.\n",
    "Стрелец: Вероятны ухудшение самочувствия или проблемы с имуществом. Возможно, у вас появится желание что-либо изменить в жизни или отправиться в путешествие. Но не торопите события - сегодня не самый благоприятный день для долгосрочного планирования.\n",
    "Козерог: Первый день года будет для вас днем, когда вам придется активно участвовать во всех событиях, происходящих вокруг, и лично принимать важные решения. В поступках и речах окружающих могут присутствовать мотивы, нарушающие ваше благополучие. Могут появиться тревоги и опасения.\n",
    "Водолей: Удача на вашей стороне. Звезды предполагают неожиданный поворот в вашей жизни. Интуиция и предусмотрительность помогут вам найти правильное направление жизнедеятельности. Не исключен риск и смелые решения, которые могут принести немалую выгоду. Главное - вовремя остановиться.\n",
    "Рыбы: Вы чувствуете себя слегка усталым и склоняетесь к мысли о том, что ваша жизнь слишком упорядочена и стабильна. Вам хочется приключений и встреч с новыми интересными людьми. Вас будут отговаривать, но вы все равно поступите по-своему.\n",
    "Овен: Обычно вы хорошо организованный человек, но временами попадаете в затруднительное положение. Сегодняшнее расположение планет намекает именно на это. Закончите все, что начали, не ешьте сегодня что попало некоторые могут отравиться, возможно, рыбой.\n",
    "Близнецы: Сегодня вы проявите активность в общественной деятельности, среди большого скопления людей. Скорее всего это будет тем или иным образом связано с работой и вашими профессиональными обязанностями. В отдельных случаях - с вашими личными планами и желаниями.\n",
    "Телец: Соблюдайте осторожность в ситуациях, которые могут оказаться аварийными. У вас подъем творческих сил, используйте их так, чтобы осталось время на чтение. Не пугайтесь сложной литературы, вы ее усвоите.\n",
    "Рак: Сегодня подходящий день для того, чтобы насладиться приятной компанией друзей и соратников. Вы будете в центре внимания у своих слушателей, кем бы они ни были - соседями по лестничной площадке, зрителями в зале или клиентами в фирме.\n",
    "Лев: Некоторые Львы весьма удивят окружающих людей странностями своего поведения и неожиданными поступками, никак не сочетающимися с привычным для всех обликом и стилем их жизни. Такова их натура - дня не могут прожить, чтобы не удивить кого-то. Не исключено обострение хронических недугов, особенно если вы по невнимательности перегрузитесь.\n",
    "Дева: Нет резона пытаться в чем-то убедить других или даже просить их об одолжении. Они слишком подавлены, чтобы уделить вам внимание, но вы не должны принимать это на свой счет, поскольку данная фаза продлится лишь сутки. Однако как человек здравомыслящий, вы, несомненно, осознаете свою ошибку и вскоре поторопитесь к выходу.\n",
    "Весы: Другие будут либо обманывать самих себя, либо пытаться обмануть вас. Теперь, когда вас предупредили, вы будете начеку и станете относиться к тому, что они скажут вам, с меньшим доверием. Кроме того, если вы страдаете какой-либо пищевой аллергией, проявляйте особую осмотрительность в отношении еды, иначе вы рискуете оказаться в постели еще до конца дня.\n",
    "Скорпион: Сегодня возможно, что у вас возникнет острое чувство неудовлетворенности. Личные отношения в начале года будут складываться не так, как вам хотелось бы.\n",
    "Стрелец: Не рекомендуется заниматься делами, связанными с риском, азартными играми. Благоприятен отдых в кругу семьи, игры, прогулки в одиночестве. Во второй половине дня приготовьтесь услышать неожиданную приятную новость.\n",
    "Козерог: Этот день как нельзя лучше подходит для улучшения состояния здоровья и пополнения физического потенциала. Посетите сегодня тренажерный зал, бассейн или просто начните делать зарядку по утрам.\n",
    "Водолей: День самозащиты, отстаивания своих принципов. В этот день влияние некоторых планет на вашу жизнь заметно ослабеет. Проявив свойственную вам способность к анализу, мягкость и скромность, вы сможете изменить ситуацию к лучшему.\n",
    "Рыбы: К сожалению, после вчерашнего многообещающего старта, звезды несколько изменили свое положение. Это означает либо пустую трату денег, либо то, что кто-то пытается обманом выманить у вас кругленькую сумму. Вам не помешает быть менее доверчивым и более осторожным. Советуем не доверять даже собственным глазам.\n",
    "\n",
    "\"\"\""
   ]
  },
  {
   "cell_type": "code",
   "execution_count": 23,
   "id": "32060927",
   "metadata": {},
   "outputs": [
    {
     "name": "stderr",
     "output_type": "stream",
     "text": [
      "Loading features from cached file cached_lm_GPT2Tokenizer_64_train_dataset.txt [took 0.004 s]\n"
     ]
    }
   ],
   "source": [
    "\n",
    "# Сохраним обучающие данные в .txt файл \n",
    "train_path = 'train_dataset.txt'\n",
    "with open(train_path, \"w\", encoding='utf8') as f:\n",
    "    f.write(text)\n",
    "\n",
    "# Создание датасета\n",
    "train_dataset = TextDataset(tokenizer=tokenizer,file_path=train_path,block_size=64)\n",
    "  \n",
    "# Создание даталодера (нарезает текст на оптимальные по длине куски)\n",
    "data_collator = DataCollatorForLanguageModeling(tokenizer=tokenizer, mlm=False)"
   ]
  },
  {
   "attachments": {},
   "cell_type": "markdown",
   "id": "cb4a6696",
   "metadata": {},
   "source": [
    "А этот блок ведет уже к готовым обучающим данным, которые получились в результате преодобработки оригинального датасета."
   ]
  },
  {
   "cell_type": "code",
   "execution_count": 4,
   "id": "1995b161",
   "metadata": {},
   "outputs": [
    {
     "name": "stderr",
     "output_type": "stream",
     "text": [
      "C:\\Users\\Никита\\AppData\\Roaming\\Python\\Python39\\site-packages\\transformers\\data\\datasets\\language_modeling.py:54: FutureWarning: This dataset will be removed from the library soon, preprocessing should be handled with the 🤗 Datasets library. You can have a look at this example script for pointers: https://github.com/huggingface/transformers/blob/main/examples/pytorch/language-modeling/run_mlm.py\n",
      "  warnings.warn(\n"
     ]
    }
   ],
   "source": [
    "# Укажем путь к обучающим данным\n",
    "train_path = 'final_horoscopes.txt'\n",
    "\n",
    "# Создание датасета\n",
    "Train_dataset = TextDataset(tokenizer=tokenizer,file_path=train_path,block_size=64)\n",
    "  \n",
    "# Создание даталодера (нарезает текст на оптимальные по длине куски)\n",
    "Data_collator = DataCollatorForLanguageModeling(tokenizer=tokenizer, mlm=False)"
   ]
  },
  {
   "attachments": {},
   "cell_type": "markdown",
   "id": "671f5821",
   "metadata": {},
   "source": [
    "Теперь, для файнтюнинга (В отличие от feature extraction, суть дообучения (Fine Tuning) заключается в размораживании последних слоев нейронной сети (Neural Net) и их обучении. Таким образом, корректируются слои, которые имеют наиболее абстрактные представления. Производя дообучение только нескольких слоев, мы уменьшаем риск переобучения (overfitting). И самое главное, это позволяет сделать текущую модель ещё более подходящей к нашей задаче) нам понадобиться объект класса Trainer, который сделает всю необходимю работу вместо нас и далее просто нужно будет запустить trainer.train()."
   ]
  },
  {
   "cell_type": "code",
   "execution_count": 5,
   "id": "7b149d18",
   "metadata": {},
   "outputs": [],
   "source": [
    "batch_size = 16\n",
    "num_epochs = 200\n",
    "\n",
    "training_args = TrainingArguments(\n",
    "    output_dir=\"./finetuned_final\", #The output directory\n",
    "    overwrite_output_dir=True, #overwrite the content of the output directory\n",
    "    num_train_epochs=num_epochs, # number of training epochs\n",
    "    per_device_train_batch_size=batch_size, # batch size for training\n",
    "    # The batch size defines the number of samples that will be propagated through the network.\n",
    "    per_device_eval_batch_size=batch_size,  # batch size for evaluation\n",
    "    warmup_steps=10,# number of warmup steps for learning rate scheduler\n",
    "    gradient_accumulation_steps=16, # to make \"virtual\" batch size larger\n",
    "    )\n",
    "\n",
    "\n",
    "trainer = Trainer(\n",
    "    model=model,\n",
    "    args=training_args,\n",
    "    data_collator=Data_collator,\n",
    "    train_dataset=Train_dataset,\n",
    "    optimizers = (torch.optim.AdamW(model.parameters(),lr=1e-5),None) # Optimizer and lr scheduler\n",
    ")"
   ]
  },
  {
   "cell_type": "markdown",
   "id": "70fad1fc",
   "metadata": {},
   "source": [
    "Запускаем тренировку!"
   ]
  },
  {
   "cell_type": "code",
   "execution_count": 6,
   "id": "9c37faac",
   "metadata": {},
   "outputs": [],
   "source": [
    "# У меня возникала ошибка CUDA out of memory и пришлось прибегнуть к следующим функциям, чтобы очистить кэш CUDA и \n",
    "# функции сборщика мусора gc.collect(). Как ни странно, но именно после комбинации этих двух методов у меня\n",
    "# всё заработало и модель начала спокойно тренироваться.\n",
    "\n",
    "import gc\n",
    "gc.collect()\n",
    "\n",
    "torch.cuda.empty_cache()"
   ]
  },
  {
   "cell_type": "code",
   "execution_count": 7,
   "id": "afd7b00b",
   "metadata": {},
   "outputs": [
    {
     "name": "stderr",
     "output_type": "stream",
     "text": [
      "***** Running training *****\n",
      "  Num examples = 4179\n",
      "  Num Epochs = 200\n",
      "  Instantaneous batch size per device = 16\n",
      "  Total train batch size (w. parallel, distributed & accumulation) = 256\n",
      "  Gradient Accumulation steps = 16\n",
      "  Total optimization steps = 3200\n",
      "  Number of trainable parameters = 125231616\n"
     ]
    },
    {
     "data": {
      "application/vnd.jupyter.widget-view+json": {
       "model_id": "92c36615afb541d1ae0f5f0427490d3f",
       "version_major": 2,
       "version_minor": 0
      },
      "text/plain": [
       "  0%|          | 0/3200 [00:00<?, ?it/s]"
      ]
     },
     "metadata": {},
     "output_type": "display_data"
    },
    {
     "name": "stderr",
     "output_type": "stream",
     "text": [
      "Saving model checkpoint to ./finetuned_final\\checkpoint-500\n",
      "Configuration saved in ./finetuned_final\\checkpoint-500\\config.json\n"
     ]
    },
    {
     "name": "stdout",
     "output_type": "stream",
     "text": [
      "{'loss': 2.4249, 'learning_rate': 8.463949843260189e-06, 'epoch': 31.24}\n"
     ]
    },
    {
     "name": "stderr",
     "output_type": "stream",
     "text": [
      "Model weights saved in ./finetuned_final\\checkpoint-500\\pytorch_model.bin\n",
      "Saving model checkpoint to ./finetuned_final\\checkpoint-1000\n",
      "Configuration saved in ./finetuned_final\\checkpoint-1000\\config.json\n"
     ]
    },
    {
     "name": "stdout",
     "output_type": "stream",
     "text": [
      "{'loss': 1.5956, 'learning_rate': 6.896551724137932e-06, 'epoch': 62.49}\n"
     ]
    },
    {
     "name": "stderr",
     "output_type": "stream",
     "text": [
      "Model weights saved in ./finetuned_final\\checkpoint-1000\\pytorch_model.bin\n",
      "Saving model checkpoint to ./finetuned_final\\checkpoint-1500\n",
      "Configuration saved in ./finetuned_final\\checkpoint-1500\\config.json\n"
     ]
    },
    {
     "name": "stdout",
     "output_type": "stream",
     "text": [
      "{'loss': 1.2597, 'learning_rate': 5.329153605015674e-06, 'epoch': 93.73}\n"
     ]
    },
    {
     "name": "stderr",
     "output_type": "stream",
     "text": [
      "Model weights saved in ./finetuned_final\\checkpoint-1500\\pytorch_model.bin\n",
      "Saving model checkpoint to ./finetuned_final\\checkpoint-2000\n",
      "Configuration saved in ./finetuned_final\\checkpoint-2000\\config.json\n"
     ]
    },
    {
     "name": "stdout",
     "output_type": "stream",
     "text": [
      "{'loss': 1.0721, 'learning_rate': 3.7617554858934172e-06, 'epoch': 124.98}\n"
     ]
    },
    {
     "name": "stderr",
     "output_type": "stream",
     "text": [
      "Model weights saved in ./finetuned_final\\checkpoint-2000\\pytorch_model.bin\n",
      "Saving model checkpoint to ./finetuned_final\\checkpoint-2500\n",
      "Configuration saved in ./finetuned_final\\checkpoint-2500\\config.json\n"
     ]
    },
    {
     "name": "stdout",
     "output_type": "stream",
     "text": [
      "{'loss': 0.9624, 'learning_rate': 2.1943573667711602e-06, 'epoch': 156.24}\n"
     ]
    },
    {
     "name": "stderr",
     "output_type": "stream",
     "text": [
      "Model weights saved in ./finetuned_final\\checkpoint-2500\\pytorch_model.bin\n",
      "Saving model checkpoint to ./finetuned_final\\checkpoint-3000\n",
      "Configuration saved in ./finetuned_final\\checkpoint-3000\\config.json\n"
     ]
    },
    {
     "name": "stdout",
     "output_type": "stream",
     "text": [
      "{'loss': 0.9027, 'learning_rate': 6.269592476489028e-07, 'epoch': 187.49}\n"
     ]
    },
    {
     "name": "stderr",
     "output_type": "stream",
     "text": [
      "Model weights saved in ./finetuned_final\\checkpoint-3000\\pytorch_model.bin\n",
      "\n",
      "\n",
      "Training completed. Do not forget to share your model on huggingface.co/models =)\n",
      "\n",
      "\n"
     ]
    },
    {
     "name": "stdout",
     "output_type": "stream",
     "text": [
      "{'train_runtime': 14057.3868, 'train_samples_per_second': 59.456, 'train_steps_per_second': 0.228, 'train_loss': 1.339286332130432, 'epoch': 199.98}\n"
     ]
    },
    {
     "data": {
      "text/plain": [
       "TrainOutput(global_step=3200, training_loss=1.339286332130432, metrics={'train_runtime': 14057.3868, 'train_samples_per_second': 59.456, 'train_steps_per_second': 0.228, 'train_loss': 1.339286332130432, 'epoch': 199.98})"
      ]
     },
     "execution_count": 7,
     "metadata": {},
     "output_type": "execute_result"
    }
   ],
   "source": [
    "trainer.train()"
   ]
  },
  {
   "attachments": {},
   "cell_type": "markdown",
   "id": "f1f0e732",
   "metadata": {},
   "source": [
    "Сохраняем и загружаем дообученную модель.\n",
    "\n",
    "Эта папка храниться по следующей ссылке: https://drive.google.com/drive/folders/1sdUoxAginZBniiP1RLdd-PXTjvNVExoW?usp=sharing"
   ]
  },
  {
   "cell_type": "code",
   "execution_count": 8,
   "id": "b4c796d0",
   "metadata": {},
   "outputs": [
    {
     "name": "stderr",
     "output_type": "stream",
     "text": [
      "Configuration saved in horoscopes_rugpt3_final\\config.json\n",
      "Model weights saved in horoscopes_rugpt3_final\\pytorch_model.bin\n",
      "tokenizer config file saved in horoscopes_rugpt3_final\\tokenizer_config.json\n",
      "Special tokens file saved in horoscopes_rugpt3_final\\special_tokens_map.json\n"
     ]
    },
    {
     "data": {
      "text/plain": [
       "('horoscopes_rugpt3_final\\\\tokenizer_config.json',\n",
       " 'horoscopes_rugpt3_final\\\\special_tokens_map.json',\n",
       " 'horoscopes_rugpt3_final\\\\vocab.json',\n",
       " 'horoscopes_rugpt3_final\\\\merges.txt',\n",
       " 'horoscopes_rugpt3_final\\\\added_tokens.json')"
      ]
     },
     "execution_count": 8,
     "metadata": {},
     "output_type": "execute_result"
    }
   ],
   "source": [
    "output_dir = 'horoscopes_rugpt3_final' # Директория, где лежит наша финальная модель\n",
    "\n",
    "model.save_pretrained(output_dir)\n",
    "tokenizer.save_pretrained(output_dir)"
   ]
  },
  {
   "attachments": {},
   "cell_type": "markdown",
   "id": "d0b6f25c",
   "metadata": {},
   "source": [
    "Загрузка уже обученной модели"
   ]
  },
  {
   "cell_type": "code",
   "execution_count": 2,
   "id": "119e0245",
   "metadata": {},
   "outputs": [
    {
     "name": "stderr",
     "output_type": "stream",
     "text": [
      "Special tokens have been added in the vocabulary, make sure the associated word embeddings are fine-tuned or trained.\n"
     ]
    }
   ],
   "source": [
    "# Это используется , если нужно загрузить уже готовую, обученную модель.\n",
    "from transformers import AutoConfig\n",
    "\n",
    "# AutoConfig is a generic configuration class that will be instantiated as one of \n",
    "# the configuration classes of the library when created with the from_pretrained() class method.\n",
    "\n",
    "config = AutoConfig.from_pretrained(\"./horoscopes_rugpt3_final\")\n",
    "\n",
    "from transformers import AutoModelForSequenceClassification, AutoTokenizer, GPT2LMHeadModel, GPT2Tokenizer\n",
    "import torch\n",
    "\n",
    "DEVICE = torch.device('cuda' if torch.cuda.is_available() else 'cpu')\n",
    "tokenizer = AutoTokenizer.from_pretrained(\"./horoscopes_rugpt3_final\")\n",
    "\n",
    "# Загружаем обученную модель из папки, куда мы ее сохраняли\n",
    "model = GPT2LMHeadModel.from_pretrained(\"./horoscopes_rugpt3_final\",config=config).to(DEVICE) "
   ]
  },
  {
   "cell_type": "markdown",
   "id": "4a34b651",
   "metadata": {},
   "source": [
    "Пример с генерацией текста. При генерации текста можно будет играться со следующими параметрами:\n",
    "1) temperature — параметр сглаживания; чем выше, тем сильнее сглаживание вероятностного распределения токенов при предсказании;\n",
    "2) top_p — техника сэмплирования: сортировка предсказаний каждого следующего слова по вероятностям и отсекание вариантов, как только суммарная вероятность предыдущих токенов превысит p;\n",
    "3) max_length — максимальная длина генерируемого текста;"
   ]
  },
  {
   "cell_type": "code",
   "execution_count": 3,
   "id": "9f95eaf8",
   "metadata": {},
   "outputs": [
    {
     "name": "stderr",
     "output_type": "stream",
     "text": [
      "The attention mask and the pad token id were not set. As a consequence, you may observe unexpected behavior. Please pass your input's `attention_mask` to obtain reliable results.\n",
      "Setting `pad_token_id` to `eos_token_id`:50256 for open-end generation.\n"
     ]
    },
    {
     "name": "stdout",
     "output_type": "stream",
     "text": [
      "\n",
      "Водолей: \n",
      " ╦Удача сопутствует вам во всех начинаниях, особенно в исследовательской работе, поиске более совершенных методов и технологий, в экспериментах и поиске более совершенных видов деятельности. Хороший день для научных исследований, для прогрессивных технологических или методологических изменений на производстве и в бизнесе. Вы можете получить финансовую помощь для реализации новых проектов. Возросшее обаяние и энергичность Водолеев позволит им преодолеть все преграды и препятствия на пути к успеху. Однако не забывайте, что \"\"\n"
     ]
    }
   ],
   "source": [
    "#Пример вероятностного сэмплирования (При такой генерации мы берём не самый вероятный токен, \n",
    "# а выбираем его \"случайно\" с учётом распределения вероятностей. ) с некоторым ограничением.\n",
    "\n",
    "text = \"Водолей: \\n\"\n",
    "input_ids = tokenizer.encode(text, return_tensors=\"pt\").to(DEVICE)\n",
    "model.eval() # model.eval() is a kind of switch for some specific layers/parts of the model that \n",
    "#behave differently during training and inference (evaluating) time.\n",
    "\n",
    "# Описание torch.no_grad() на английском:\n",
    "# With torch.no_grad() method is like a loop in which \n",
    "# every tensor in that loop will have a requires_grad set to False. \n",
    "# It means that the tensors with gradients currently attached to the current computational \n",
    "# graph are now detached from the current graph and no longer we will be able to compute the gradients \n",
    "# with respect to that tensor. Until the tensor is within the loop it is detached from the current graph. \n",
    "# As soon as the tensor defined with gradient is out of the loop, it is again attached to \n",
    "# the current graph. This method disables the gradient calculation which reduces the memory \n",
    "# consumption for computations.\n",
    "\n",
    "with torch.no_grad():\n",
    "    out = model.generate(input_ids, \n",
    "                        do_sample=True,\n",
    "                        num_beams=2,\n",
    "                        temperature=1.5,\n",
    "                        top_p=0.9,\n",
    "                        max_length=100,\n",
    "                        )\n",
    "\n",
    "# Здесь происходит декодирование токенов\n",
    "generated_text = list(map(tokenizer.decode, out))[0]\n",
    "print()\n",
    "print(generated_text)"
   ]
  },
  {
   "attachments": {},
   "cell_type": "markdown",
   "id": "0f460aff",
   "metadata": {},
   "source": [
    "В следующем блоке приведу гороскопы, сгенерированные для каждого из 12 знаков зодиака."
   ]
  },
  {
   "cell_type": "code",
   "execution_count": 20,
   "id": "0ed53a28",
   "metadata": {},
   "outputs": [],
   "source": [
    "Oven = '''Овен: Сегодня вероятны конфликты на работе из-за идей и мнений \n",
    "          партнеров по работе, особенно касающихся совместного капитала, акционирования, \n",
    "          налогов и пошлин, алиментов и наследства, долговых обязательств. Возможны столкновения с законом в той или иной форме. \n",
    "          Вы склонны проявлять честность и прямоту во что бы то ни стало. Общение динамично и конструктивно, особенно с женщинами - партнерами и \n",
    "          сотрудницами. Возможны взаимное пренебрежение интересами партнеров и коллег. Совместный'''\n",
    "\n",
    "Bliznetsi = '''Близнецы: День обещает быть насыщенным интересными событиями в личной жизни. Звезды \n",
    "               рекомендуют избегать коллективной работы. Вероятны неожиданные препятствия или недоразумения, \n",
    "               связанные с общением, общением или личными отношениями. Не исключено, что у вас появятся новые интересные предложения, \n",
    "               однако не торопите события - они могут затянуться надолго. День обещает быть насыщенным интересными событиями в \n",
    "               личной жизни. Звезды рекомендуют избегать коллективной работы. Вероятны неожиданные препятствия или недоразумения, \n",
    "               связанные с общением'''\n",
    "\n",
    "Telets = '''Телец: Вы настроены оптимистично, имеете тенденцию к деловой и финансовой экспансии. Благоприятны контакты с \n",
    "            различными группами и организациями, привлечение дружеских связей, но стремление к лидерству и игнорирование чужих \n",
    "            интересов может привести к конфликтам с друзьями, отказу в помощи. Возможны заблуждения относительно перспектив и \n",
    "            реалистичности проектов. Активизируется деловое партнерство, укрепляются связи. Хороший день для заключения сделок, \n",
    "            открытия нового предприятия или реорганизации производства. Вы ощутите возрастание активности'''\n",
    "\n",
    "Rak = '''Рак: Жизненный потенциал имеет тенденцию к снижению. Жизненный потенциал может несколько снизиться. \n",
    "         Вероятны осложнения в отношениях с детьми. Не затягивайте с их рождением.\n",
    "         Неожиданные недоразумения, возможен крах карьеры, неприятные изменения на работе. Вы стремитесь к свободе \n",
    "         действий любой ценой, но отрицаете ответственность за свои поступки. Из-за эгоизма и упрямства можете \n",
    "         пренебречь многими хорошими советами. Поддерживаете сумасбродные идеи и придерживаетесь ненадежных перспектив.'''\n",
    "\n",
    "Lev = '''Лев: Займись саморекламой, общением с важными людьми, подведи черту под старыми планами, разбери старые связи. \n",
    "         Сегодня не самый подходящий день для того, чтобы заниматься саморекламой. (p.s. Немножко противоречиво получилось -_-)\n",
    "         Неожиданные события во многих сферах жизни ослабляют возможность коммерческого, финансового успеха. Вы можете ощущать \n",
    "         некоторую незащищенность и безотчетный страх, что скажется на Ваших отношениях с сотрудниками или компаньонами. \n",
    "         Неожиданные происшествия и разочарования в работе, карьере.'''\n",
    "\n",
    "Deva = '''Дева: Удача на вашей стороне, а непоколебимость жизненных принципов может положительно повлиять на ваши успехи. \n",
    "          Хороший день для активного решения общих с партнерами или сотрудниками вопросов, для открытия новых предприятий \n",
    "          и начала проектов, для командировок и ответственных визитов. Вам поможет дипломатичность, такт, хороший вкус и манеры. \n",
    "          Вы сможете кого угодно убедить в чем угодно, а потому можете не сомневаться в искренности партнеров и в лояльности начальства.\n",
    "          День характеризуется умением находить практическое применение своему вдохновению'''\n",
    "\n",
    "Vesi = '''Весы: Близкие вам люди будут страдать, если вы не выложите все свои карты. \n",
    "          Не реагируйте слишком болезненно на то, что происходит, потому что вы - хозяин положения. \n",
    "          Будьте терпеливы, и все уладится. Возможно, вам придется взять на себя лидерство в решении некоторых вопросов, \n",
    "          особенно касающихся образования и культурных мероприятий. Взаимопонимание на работе улучшается. \n",
    "          Возможны новые контакты, которые повлияют на дальнейшую судьбу людей, с которыми вам предстоит общаться.'''\n",
    "\n",
    "Scorpion = '''Скорпион: Вы можете полностью проявить все свои интеллектуальные и духовные способности, \n",
    "              однако не торопитесь с выводами, подождите немного - может быть, они будут для Вас неожиданными. \n",
    "              Не торопитесь с выводами. Вы можете полностью проявить все свои интеллектуальные и духовные способности, \n",
    "              однако не торопитесь с выводами, подождете немного - может быть, они будут для Вас неожиданными. \n",
    "              Не торопитесь с выводами. Вы можете полностью проявить все свои интеллектуальные и духовные способности, однако'''  \n",
    "\n",
    "Strelets = '''Стрелец: В вашей жизни намечается виток на иной уровень развития, к новым делам или новым делам, \n",
    "              в которых вы давно уже не были. Сегодня звезды рекомендуют проявлять осмотрительность и сдержанность в общении. \n",
    "              Постарайтесь не проявлять агрессию по отношению к окружающим людям. День несет двойственную \n",
    "              характеристику. Первая половина дня благоприятна для путешествий. Вторая половина дня - неблагоприятна \n",
    "              для активных физических нагрузок. В первой половине дня вероятны ссоры или травмы. \n",
    "              Нельзя расслабляться, отказывать'''\n",
    "\n",
    "Kozerog = '''Козерог: Благоприятный день для налаживания отношений с женщинами - партнерами и сотрудницами. \n",
    "             Благоприятный день для обращения к богатым и влиятельным женщинам. Ваша активность на работе \n",
    "             будет способствовать успеху. Вы сможете максимально проявить свои интеллектуальные и духовные способности, даже будучи в депрессии.\n",
    "             Если сегодня заболеете, то болезнь будет долгой, тяжелой и тяжелой, возможны осложнения. \n",
    "             Будьте осторожны при управлении транспортом и работе с острыми предметами, техникой.\n",
    "             Благоприятный день для налаживания отношений'''    \n",
    "\n",
    "Vodolei = '''Водолей: Водолеям следует определить границы своих возможностей. Водолеям следует обратить внимание \n",
    "             на качество питания. Звезды предостерегают от слишком бурного проявления эмоций критика по отношению к окружающим \n",
    "             может обернуться против вас. Неблагоприятный день для общения с друзьями и родственниками. Звезды предостерегают от \n",
    "             активных физических нагрузок и коллективных мероприятий. Звезды предостерегают Водолеев от активных \n",
    "             физических нагрузок и коллективных мероприятий. Звезды предостерегают от'''\n",
    "\n",
    "Ribi = '''Рыбы: День благоприятен для долгосрочного планирования, заключения соглашений, \n",
    "          ответственных выступлений, заключения сделок, для торговых дел, особенно касающихся недвижимости.  \n",
    "          В то же время возможны некоторые упущения в работе.  Активизируются предубеждения и предрассудки. \n",
    "          Вы склонны к мечтательности, отрыву от реальности.  Неблагоприятны сделки и финансовые операции, \n",
    "          особенно связанные с недвижимостью.  Покупки окажутся неудачными, а траты чрезмерными. Возможны ощутимые убытки. \n",
    "          Возмож'''"
   ]
  },
  {
   "attachments": {},
   "cell_type": "markdown",
   "id": "5f956425",
   "metadata": {},
   "source": [
    "Список использованных источников:\n",
    "\n",
    "Использованные источники:\n",
    "\n",
    "1. https://www.geeksforgeeks.org/what-is-with-torch-no_grad-in-pytorch/\n",
    "2. https://stackoverflow.com/questions/60018578/what-does-model-eval-do-in-pytorch\n",
    "3. https://habr.com/ru/post/704592/\n",
    "4. https://huggingface.co/transformers/v3.0.2/index.html\n",
    "5. https://habr.com/ru/post/417215/\n",
    "6. https://stats.stackexchange.com/questions/153531/what-is-batch-size-in-neural-network\n",
    "7. https://python-school.ru/blog/fine-tuning/\n",
    "8. https://habr.com/ru/post/334380/\n",
    "9. https://developers.sber.ru/portal/products/rugpt-3?attempt=1\n",
    "10. https://habr.com/ru/post/486358/\n",
    "11. https://github.com/lambdamai/datascience/blob/main/nlp/GPT_introduction.ipynb (САМОЕ ГЛАВНОЕ!!! СПАСИБО ОГРОМНОЕ ЗА ГАЙД!!!)"
   ]
  }
 ],
 "metadata": {
  "kernelspec": {
   "display_name": "Python 3.9.5 64-bit",
   "language": "python",
   "name": "python3"
  },
  "language_info": {
   "codemirror_mode": {
    "name": "ipython",
    "version": 3
   },
   "file_extension": ".py",
   "mimetype": "text/x-python",
   "name": "python",
   "nbconvert_exporter": "python",
   "pygments_lexer": "ipython3",
   "version": "3.9.5"
  },
  "vscode": {
   "interpreter": {
    "hash": "14083e40f8b65eb46b33fd6f843e6c5f991d55ba4a8febfea3726cfde889a8ea"
   }
  }
 },
 "nbformat": 4,
 "nbformat_minor": 5
}
